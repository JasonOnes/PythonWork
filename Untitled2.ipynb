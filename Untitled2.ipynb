{
 "cells": [
  {
   "cell_type": "code",
   "execution_count": 7,
   "metadata": {
    "collapsed": false
   },
   "outputs": [
    {
     "data": {
      "text/plain": [
       "2"
      ]
     },
     "execution_count": 7,
     "metadata": {},
     "output_type": "execute_result"
    }
   ],
   "source": [
    "cards = {'2S':2, '3S':3, '4S':4}\n",
    "\n",
    "cards['2S']"
   ]
  },
  {
   "cell_type": "code",
   "execution_count": 8,
   "metadata": {
    "collapsed": false
   },
   "outputs": [
    {
     "data": {
      "text/plain": [
       "4"
      ]
     },
     "execution_count": 8,
     "metadata": {},
     "output_type": "execute_result"
    }
   ],
   "source": [
    "cards['4S']"
   ]
  },
  {
   "cell_type": "code",
   "execution_count": 11,
   "metadata": {
    "collapsed": false
   },
   "outputs": [],
   "source": [
    "cards = {'2S':2, '3S':3, '4S':4, '5S':5, '6S':6, '7S':7, '8S':8, '9S':9, '10S':10,\n",
    "         'JS':10, 'QS':10, 'KS':10, 'AS':(11, 1)}\n"
   ]
  },
  {
   "cell_type": "code",
   "execution_count": 19,
   "metadata": {
    "collapsed": false
   },
   "outputs": [
    {
     "name": "stdout",
     "output_type": "stream",
     "text": [
      "{'QS': 10, '9S': 9, 'KS': 10, 'AS': (11, 1), '7S': 7, '2S': 2, '6S': 6, '10S': 10, 'JS': 10, '4S': 4, '8S': 8, '3S': 3, '5S': 5}\n",
      "{'QS': 10, '9S': 9, 'KS': 10, 'AS': (11, 1), '7S': 7, '2S': 2, '6S': 6, '10S': 10, 'JS': 10, '4S': 4, '8S': 8, '3S': 3, '5S': 5}\n",
      "{'QS': 10, '9S': 9, 'KS': 10, 'AS': (11, 1), '7S': 7, '2S': 2, '6S': 6, '10S': 10, 'JS': 10, '4S': 4, '8S': 8, '3S': 3, '5S': 5}\n",
      "{'QS': 10, '9S': 9, 'KS': 10, 'AS': (11, 1), '7S': 7, '2S': 2, '6S': 6, '10S': 10, 'JS': 10, '4S': 4, '8S': 8, '3S': 3, '5S': 5}\n"
     ]
    }
   ],
   "source": [
    "for _ in range(4):\n",
    "    print(cards)"
   ]
  },
  {
   "cell_type": "code",
   "execution_count": null,
   "metadata": {
    "collapsed": true
   },
   "outputs": [],
   "source": [
    "{'QS': 10, '9S': 9, 'KS': 10, 'AS': (11, 1), '7S': 7, '2S': 2, '6S': 6, '10S': 10, 'JS': 10, '4S': 4, '8S': 8, '3S': 3, '5S': 5}\n",
    "{'QC': 10, '9C': 9, 'KC': 10, 'AC': (11, 1), '7C': 7, '2C': 2, '6C': 6, '10C': 10, 'JC': 10, '4C': 4, '8C': 8, '3C': 3, '5C': 5}\n",
    "{'QH': 10, '9H': 9, 'KH': 10, 'AH': (11, 1), '7H': 7, '2H': 2, '6H': 6, '10H': 10, 'JH': 10, '4H': 4, '8H': 8, '3H': 3, '5H': 5}\n",
    "{'QD': 10, '9D': 9, 'KD': 10, 'AD': (11, 1), '7D': 7, '2D': 2, '6D': 6, '10D': 10, 'JD': 10, '4D': 4, '8D': 8, '3D': 3, '5D': 5}"
   ]
  }
 ],
 "metadata": {
  "anaconda-cloud": {},
  "kernelspec": {
   "display_name": "Python [conda root]",
   "language": "python",
   "name": "conda-root-py"
  },
  "language_info": {
   "codemirror_mode": {
    "name": "ipython",
    "version": 3
   },
   "file_extension": ".py",
   "mimetype": "text/x-python",
   "name": "python",
   "nbconvert_exporter": "python",
   "pygments_lexer": "ipython3",
   "version": "3.5.2"
  }
 },
 "nbformat": 4,
 "nbformat_minor": 1
}
