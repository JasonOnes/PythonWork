{
 "cells": [
  {
   "cell_type": "code",
   "execution_count": 1,
   "metadata": {
    "collapsed": true
   },
   "outputs": [],
   "source": [
    "\"\"\"Parking lot inventory?\"\"\"\n",
    "\n",
    "\n",
    "class Vehicle:\n",
    "\n",
    "    def __init__(self, color, plate):\n",
    "        self.color = color\n",
    "        self.plate = plate\n",
    "\n",
    "    def __str__(self):\n",
    "        string = \"The {0.color} with {0.plate} plate number.\".format(self)\n",
    "        return string\n",
    "\n",
    "    def __repr__(self):\n",
    "        rep = x\n",
    "        return rep\n",
    "\n",
    "\n",
    "class ParkingLot:\n",
    "\n",
    "    def __int__(self, capacity, rate):\n",
    "        self._capacity = capacity\n",
    "        self.rate = rate\n",
    "        self.spaces = list()\n",
    "        self.available_spaces = capacity\n",
    "\n",
    "\n",
    "    def __str__(self):\n",
    "        string = \"There's {0.available_spaces} much room.\".format(self)\n",
    "        return string\n",
    "\n",
    "    def __repr__(self):\n",
    "        pass\n",
    "\n",
    "\n",
    "    def park_in(self, vehicle):\n",
    "        if len(self.spaces) < self.capacity:\n",
    "           self.spaces.append(vehicle)\n",
    "           self.available_spaces -= 1\n",
    "        else:\n",
    "           print(\"Full!\")\n",
    "           return False"
   ]
  },
  {
   "cell_type": "code",
   "execution_count": 2,
   "metadata": {
    "collapsed": false
   },
   "outputs": [
    {
     "ename": "TypeError",
     "evalue": "object() takes no parameters",
     "output_type": "error",
     "traceback": [
      "\u001b[0;31m---------------------------------------------------------------------------\u001b[0m",
      "\u001b[0;31mTypeError\u001b[0m                                 Traceback (most recent call last)",
      "\u001b[0;32m<ipython-input-2-d299d90a86ae>\u001b[0m in \u001b[0;36m<module>\u001b[0;34m()\u001b[0m\n\u001b[0;32m----> 1\u001b[0;31m \u001b[0mlot\u001b[0m \u001b[0;34m=\u001b[0m \u001b[0mParkingLot\u001b[0m\u001b[0;34m(\u001b[0m\u001b[0mcapacity\u001b[0m\u001b[0;34m=\u001b[0m\u001b[0;36m3\u001b[0m\u001b[0;34m,\u001b[0m \u001b[0mrate\u001b[0m\u001b[0;34m=\u001b[0m\u001b[0;36m20.0\u001b[0m\u001b[0;34m)\u001b[0m\u001b[0;34m\u001b[0m\u001b[0m\n\u001b[0m",
      "\u001b[0;31mTypeError\u001b[0m: object() takes no parameters"
     ]
    }
   ],
   "source": [
    "lot = ParkingLot(capacity=3, rate=20.0)"
   ]
  },
  {
   "cell_type": "code",
   "execution_count": null,
   "metadata": {
    "collapsed": true
   },
   "outputs": [],
   "source": []
  }
 ],
 "metadata": {
  "anaconda-cloud": {},
  "kernelspec": {
   "display_name": "Python [conda root]",
   "language": "python",
   "name": "conda-root-py"
  },
  "language_info": {
   "codemirror_mode": {
    "name": "ipython",
    "version": 3
   },
   "file_extension": ".py",
   "mimetype": "text/x-python",
   "name": "python",
   "nbconvert_exporter": "python",
   "pygments_lexer": "ipython3",
   "version": "3.5.2"
  }
 },
 "nbformat": 4,
 "nbformat_minor": 1
}
