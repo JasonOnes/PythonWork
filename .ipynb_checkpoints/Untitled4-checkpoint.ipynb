{
 "cells": [
  {
   "cell_type": "code",
   "execution_count": 1,
   "metadata": {
    "collapsed": true
   },
   "outputs": [],
   "source": [
    "char = ['a', 'b', 'c', 'd', 'e', 'f', 'g', 'h', 'i', 'j', 'k', 'l', 'm', 'n',\n",
    "        'o', 'p', 'q', 'r', 's', 't', 'u', 'v', 'w', 'x', 'y', 'z']\n",
    "master = [char * 2]"
   ]
  },
  {
   "cell_type": "code",
   "execution_count": 13,
   "metadata": {
    "collapsed": false
   },
   "outputs": [
    {
     "name": "stdout",
     "output_type": "stream",
     "text": [
      "but, officer, i didn't catch these -- they are my pet fish and i just bring them here to swim. when they're done they jump back into the bucket.\n"
     ]
    }
   ],
   "source": [
    "\"\"\"\n",
    "Write a function to decrypt an ROT13 Enconded message.\n",
    "\n",
    "message = \"Ohg, bssvpre, V qvqa'g pngpu gurfr -- gurl ner zl crg svfu naq V whfg\\\n",
    " oevat gurz urer gb fjvz. Jura gurl'er qbar gurl whzc onpx vagb gur ohpxrg.\"\n",
    "\"\"\"\n",
    "\n",
    "# Write your code here\n",
    "def decode(x):\n",
    "    lower_m = x.lower()\n",
    "    char = ['a', 'b', 'c', 'd', 'e', 'f', 'g', 'h', 'i', 'j', 'k', 'l', 'm', 'n',\n",
    "            'o', 'p', 'q', 'r', 's', 't', 'u', 'v', 'w', 'x', 'y', 'z']\n",
    "    master = char * 2\n",
    "    decoded_x = list()\n",
    "    for letter in lower_m:\n",
    "        if letter in char:\n",
    "            n = char.index(letter)\n",
    "            decoded_x.extend(master[n+13])\n",
    "\n",
    "        elif letter not in char:\n",
    "            decoded_x.extend(letter)\n",
    "    y = decoded_x\n",
    "    z = \"\".join(y)\n",
    "    print(z)\n",
    "    \n",
    "\n",
    "message = \"Ohg, bssvpre, V qvqa'g pngpu gurfr -- gurl ner zl crg svfu naq V whfg\\\n",
    " oevat gurz urer gb fjvz. Jura gurl'er qbar gurl whzc onpx vagb gur ohpxrg.\"\n",
    "\n",
    "decode(message)\n"
   ]
  },
  {
   "cell_type": "code",
   "execution_count": null,
   "metadata": {
    "collapsed": true
   },
   "outputs": [],
   "source": [
    "\n",
    "\n",
    "\n"
   ]
  },
  {
   "cell_type": "code",
   "execution_count": null,
   "metadata": {
    "collapsed": true
   },
   "outputs": [],
   "source": []
  },
  {
   "cell_type": "code",
   "execution_count": 62,
   "metadata": {
    "collapsed": false
   },
   "outputs": [],
   "source": [
    "if __name__ == '__main__':\n",
    "\n",
    "    NFL_TEAMS = {\n",
    "        'AFC': {\n",
    "            'East': ['Buffalo Bills', 'Miami Dolphins', 'New England Patriots', 'New York Jets'],\n",
    "            'North': ['Baltimore Ravens', 'Cincinnati Bengals', 'Cleveland Browns', 'Pittsburgh Steelers'],\n",
    "            'South': ['Houston Texans', 'Indianapolis Colts', 'Jacksonville Jaguars', 'Tennessee Titans'],\n",
    "            'West': ['Denver Broncos', 'Kansas City Chiefs', 'Oakland Raiders', 'San Diego Chargers']\n",
    "        },\n",
    "        'NFC': {\n",
    "            'East': ['Dallas Cowboys', 'New York Giants', 'Philadelphia Eagles', 'Washington Redskins'],\n",
    "            'North': ['Chicago Bears', 'Detroit Lions', 'Green Bay Packers', 'Minnesota Vikings'],\n",
    "            'South': ['Atlanta Falcons', 'Carolina Panthers', 'New Orleans Saints', 'Tampa Bay Buccaneers'],\n",
    "            'West': ['Arizona Cardinals', 'Los Angeles Rams', 'San Francisco 49ers', 'Seattle Seahawks']\n",
    "        }\n",
    "    }\n",
    "    #for team in NFL_TEAMS:\n",
    "     #   if x == team:\n",
    "    #      print(NFL-TEAMS.key(team))\n",
    "    #user_input = 'Detroit Lions'\n",
    "    \n",
    "    for division, team in NFL_TEAMS.items():\n",
    "        if user_input in team:\n",
    "            print(division)\n",
    "    #print(NFL_TEAMS.values())"
   ]
  },
  {
   "cell_type": "code",
   "execution_count": null,
   "metadata": {
    "collapsed": false
   },
   "outputs": [],
   "source": []
  },
  {
   "cell_type": "code",
   "execution_count": null,
   "metadata": {
    "collapsed": true
   },
   "outputs": [],
   "source": []
  },
  {
   "cell_type": "code",
   "execution_count": null,
   "metadata": {
    "collapsed": true
   },
   "outputs": [],
   "source": []
  }
 ],
 "metadata": {
  "anaconda-cloud": {},
  "kernelspec": {
   "display_name": "Python [conda root]",
   "language": "python",
   "name": "conda-root-py"
  },
  "language_info": {
   "codemirror_mode": {
    "name": "ipython",
    "version": 3
   },
   "file_extension": ".py",
   "mimetype": "text/x-python",
   "name": "python",
   "nbconvert_exporter": "python",
   "pygments_lexer": "ipython3",
   "version": "3.5.2"
  }
 },
 "nbformat": 4,
 "nbformat_minor": 1
}
