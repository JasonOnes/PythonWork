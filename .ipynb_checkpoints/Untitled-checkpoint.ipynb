{
 "cells": [
  {
   "cell_type": "code",
   "execution_count": 11,
   "metadata": {
    "collapsed": true
   },
   "outputs": [],
   "source": [
    "from datetime import datetime\n",
    "\n"
   ]
  },
  {
   "cell_type": "code",
   "execution_count": 12,
   "metadata": {
    "collapsed": true
   },
   "outputs": [],
   "source": [
    "date_1 = '2012/09/18 23:40'\n",
    "date_2 = '2013/09/09 09:09'"
   ]
  },
  {
   "cell_type": "code",
   "execution_count": 15,
   "metadata": {
    "collapsed": false
   },
   "outputs": [],
   "source": [
    "first_date = datetime.strptime(date_1, '%Y/%m/%d %H:%M')\n",
    "next_date = datetime.strptime(date_2, '%Y/%m/%d %H:%M')"
   ]
  },
  {
   "cell_type": "code",
   "execution_count": 25,
   "metadata": {
    "collapsed": false
   },
   "outputs": [],
   "source": [
    "delta = first_date - next_date"
   ]
  },
  {
   "cell_type": "code",
   "execution_count": 26,
   "metadata": {
    "collapsed": false
   },
   "outputs": [
    {
     "name": "stdout",
     "output_type": "stream",
     "text": [
      "-356 days, 14:31:00\n"
     ]
    }
   ],
   "source": [
    "print(delta)"
   ]
  },
  {
   "cell_type": "code",
   "execution_count": 28,
   "metadata": {
    "collapsed": false
   },
   "outputs": [
    {
     "name": "stdout",
     "output_type": "stream",
     "text": [
      "-356 days, 14:31:00\n"
     ]
    }
   ],
   "source": [
    "print(delta)"
   ]
  },
  {
   "cell_type": "code",
   "execution_count": null,
   "metadata": {
    "collapsed": true
   },
   "outputs": [],
   "source": [
    "\n",
    "\n",
    "\n"
   ]
  },
  {
   "cell_type": "code",
   "execution_count": 12,
   "metadata": {
    "collapsed": false
   },
   "outputs": [
    {
     "name": "stdout",
     "output_type": "stream",
     "text": [
      "Enter the name of either a conference (AFC or NFC) or team: AFC\n",
      "What division?: South\n"
     ]
    },
    {
     "ename": "NameError",
     "evalue": "name 'user_input_1' is not defined",
     "output_type": "error",
     "traceback": [
      "\u001b[0;31m---------------------------------------------------------------------------\u001b[0m",
      "\u001b[0;31mNameError\u001b[0m                                 Traceback (most recent call last)",
      "\u001b[0;32m<ipython-input-12-b51250be5291>\u001b[0m in \u001b[0;36m<module>\u001b[0;34m()\u001b[0m\n\u001b[1;32m     69\u001b[0m \u001b[0;34m\u001b[0m\u001b[0m\n\u001b[1;32m     70\u001b[0m \u001b[0;34m\u001b[0m\u001b[0m\n\u001b[0;32m---> 71\u001b[0;31m \u001b[0mmain\u001b[0m\u001b[0;34m(\u001b[0m\u001b[0mNFL_TEAMS\u001b[0m\u001b[0;34m)\u001b[0m\u001b[0;34m\u001b[0m\u001b[0m\n\u001b[0m\u001b[1;32m     72\u001b[0m \u001b[0;34m\u001b[0m\u001b[0m\n\u001b[1;32m     73\u001b[0m \u001b[0;34m\u001b[0m\u001b[0m\n",
      "\u001b[0;32m<ipython-input-12-b51250be5291>\u001b[0m in \u001b[0;36mmain\u001b[0;34m(teams)\u001b[0m\n\u001b[1;32m     42\u001b[0m     \u001b[0muser_input_2\u001b[0m \u001b[0;34m=\u001b[0m \u001b[0minput\u001b[0m\u001b[0;34m(\u001b[0m\u001b[0;34m'What division?: '\u001b[0m\u001b[0;34m)\u001b[0m\u001b[0;34m\u001b[0m\u001b[0m\n\u001b[1;32m     43\u001b[0m     \u001b[0;32mif\u001b[0m \u001b[0muser_input_1\u001b[0m \u001b[0;34m==\u001b[0m \u001b[0;34m\"AFC\"\u001b[0m \u001b[0;32mor\u001b[0m \u001b[0muser_input_1\u001b[0m \u001b[0;34m==\u001b[0m \u001b[0;34m\"NFC\"\u001b[0m\u001b[0;34m:\u001b[0m\u001b[0;34m\u001b[0m\u001b[0m\n\u001b[0;32m---> 44\u001b[0;31m         \u001b[0mget_teams_by_conference_and_division\u001b[0m\u001b[0;34m(\u001b[0m\u001b[0mNFL_TEAMS\u001b[0m\u001b[0;34m,\u001b[0m \u001b[0muser_input_1\u001b[0m\u001b[0;34m,\u001b[0m \u001b[0muser_input_2\u001b[0m\u001b[0;34m)\u001b[0m\u001b[0;34m\u001b[0m\u001b[0m\n\u001b[0m\u001b[1;32m     45\u001b[0m         \u001b[0;32mreturn\u001b[0m \u001b[0mNFL_TEAMS\u001b[0m\u001b[0;34m.\u001b[0m\u001b[0mitems\u001b[0m\u001b[0;34m[\u001b[0m\u001b[0muser_input_2\u001b[0m\u001b[0;34m]\u001b[0m\u001b[0;34m\u001b[0m\u001b[0m\n\u001b[1;32m     46\u001b[0m \u001b[0;34m\u001b[0m\u001b[0m\n",
      "\u001b[0;32m<ipython-input-12-b51250be5291>\u001b[0m in \u001b[0;36mget_teams_by_conference_and_division\u001b[0;34m(teams, conference, division)\u001b[0m\n\u001b[1;32m     15\u001b[0m \u001b[0;32mdef\u001b[0m \u001b[0mget_teams_by_conference_and_division\u001b[0m\u001b[0;34m(\u001b[0m\u001b[0mteams\u001b[0m\u001b[0;34m,\u001b[0m \u001b[0mconference\u001b[0m\u001b[0;34m,\u001b[0m \u001b[0mdivision\u001b[0m\u001b[0;34m)\u001b[0m\u001b[0;34m:\u001b[0m\u001b[0;34m\u001b[0m\u001b[0m\n\u001b[1;32m     16\u001b[0m     \u001b[0;32mfor\u001b[0m \u001b[0mconference\u001b[0m \u001b[0;32min\u001b[0m \u001b[0mNFL_TEAMS\u001b[0m\u001b[0;34m.\u001b[0m\u001b[0mkeys\u001b[0m\u001b[0;34m(\u001b[0m\u001b[0;34m)\u001b[0m\u001b[0;34m:\u001b[0m\u001b[0;34m\u001b[0m\u001b[0m\n\u001b[0;32m---> 17\u001b[0;31m         \u001b[0;32mif\u001b[0m \u001b[0muser_input_1\u001b[0m \u001b[0;34m==\u001b[0m \u001b[0mconference\u001b[0m \u001b[0;32mand\u001b[0m \u001b[0muser_input_2\u001b[0m \u001b[0;34m==\u001b[0m \u001b[0mdivision\u001b[0m\u001b[0;34m:\u001b[0m\u001b[0;34m\u001b[0m\u001b[0m\n\u001b[0m\u001b[1;32m     18\u001b[0m             \u001b[0mprint\u001b[0m\u001b[0;34m(\u001b[0m\u001b[0mNFL_TEAMS\u001b[0m\u001b[0;34m.\u001b[0m\u001b[0mvalues\u001b[0m\u001b[0;34m(\u001b[0m\u001b[0;34m)\u001b[0m\u001b[0;34m)\u001b[0m\u001b[0;34m\u001b[0m\u001b[0m\n\u001b[1;32m     19\u001b[0m \u001b[0;34m\u001b[0m\u001b[0m\n",
      "\u001b[0;31mNameError\u001b[0m: name 'user_input_1' is not defined"
     ]
    }
   ],
   "source": [
    "\"\"\"\n",
    "Prompt the user for either an NFL conference and division or the name of an NFL team.\n",
    "Based on the response, return either a list of teams in that division or the name of the team's division.\n",
    "\n",
    ">>> NFL_TEAMS = {'foo':{'bar':['baz']}}\n",
    "\n",
    ">>> get_teams_by_conference_and_division(NFL_TEAMS, 'foo', 'bar')\n",
    "['baz']\n",
    "\n",
    ">>> get_conference_and_division_by_team_name(NFL_TEAMS, 'baz')\n",
    "('foo', 'bar')\n",
    "\"\"\"\n",
    "\n",
    "\n",
    "def get_teams_by_conference_and_division(league, conference, division):\n",
    "    return league[conference][division]\n",
    "    \n",
    "#     for conference in NFL_TEAMS.keys():\n",
    "#         if user_input_1 == conference and user_input_2 == division:\n",
    "#             print(NFL_TEAMS.values())\n",
    "\n",
    "#     pass\n",
    "\n",
    "\n",
    "def get_conference_and_division_by_team_name(NFL_TEAMS, teams, team_name):\n",
    "    for conf, division in NFL_TEAMS.items():    \n",
    "            for div, teams in division.items():\n",
    "                if team_name in teams:\n",
    "                    print(conf, div)\n",
    "\n",
    "\n",
    "def main(teams):\n",
    "    \"\"\"Prompt for user input, get a result from the data, print a nicely formatted answer\"\"\"\n",
    "\n",
    "    user_input_1 = input('Enter the name of either a conference (AFC or NFC) or team: ')\n",
    "    user_input_2 = input('What division?: ')\n",
    "    get_conference_and_division_by_team_name(NFL_TEAMS, user_input_1)\n",
    "    \n",
    "#     if user_input_1 == \"AFC\" or user_input_1 == \"NFC\":\n",
    "#         get_teams_by_conference_and_division(NFL_TEAMS, user_input_1, user_input_2)\n",
    "#         return NFL_TEAMS.items[user_input_2]\n",
    "\n",
    "#     elif user_input_1 in NFL_TEAMS.items():\n",
    "#         get_conference_and_division_by_team_name(NFL_TEAMS, user_input_1)\n",
    "#     pass\n",
    "\n",
    "\n",
    "if __name__ == '__main__':\n",
    "\n",
    "    NFL_TEAMS = {\n",
    "        'AFC': {\n",
    "            'East': ['Buffalo Bills', 'Miami Dolphins', 'New England Patriots', 'New York Jets'],\n",
    "            'North': ['Baltimore Ravens', 'Cincinnati Bengals', 'Cleveland Browns', 'Pittsburgh Steelers'],\n",
    "            'South': ['Houston Texans', 'Indianapolis Colts', 'Jacksonville Jaguars', 'Tennessee Titans'],\n",
    "            'West': ['Denver Broncos', 'Kansas City Chiefs', 'Oakland Raiders', 'San Diego Chargers']\n",
    "        },\n",
    "        'NFC': {\n",
    "            'East': ['Dallas Cowboys', 'New York Giants', 'Philadelphia Eagles', 'Washington Redskins'],\n",
    "            'North': ['Chicago Bears', 'Detroit Lions', 'Green Bay Packers', 'Minnesota Vikings'],\n",
    "            'South': ['Atlanta Falcons', 'Carolina Panthers', 'New Orleans Saints', 'Tampa Bay Buccaneers'],\n",
    "            'West': ['Arizona Cardinals', 'Los Angeles Rams', 'San Francisco 49ers', 'Seattle Seahawks']\n",
    "        }\n",
    "    }\n",
    "\n",
    "\n",
    "\n",
    "main(NFL_TEAMS)\n",
    "\n",
    "\n"
   ]
  },
  {
   "cell_type": "code",
   "execution_count": null,
   "metadata": {
    "collapsed": true
   },
   "outputs": [],
   "source": []
  },
  {
   "cell_type": "code",
   "execution_count": null,
   "metadata": {
    "collapsed": true
   },
   "outputs": [],
   "source": []
  },
  {
   "cell_type": "code",
   "execution_count": null,
   "metadata": {
    "collapsed": true
   },
   "outputs": [],
   "source": [
    "\n"
   ]
  }
 ],
 "metadata": {
  "anaconda-cloud": {},
  "kernelspec": {
   "display_name": "Python [conda root]",
   "language": "python",
   "name": "conda-root-py"
  },
  "language_info": {
   "codemirror_mode": {
    "name": "ipython",
    "version": 3
   },
   "file_extension": ".py",
   "mimetype": "text/x-python",
   "name": "python",
   "nbconvert_exporter": "python",
   "pygments_lexer": "ipython3",
   "version": "3.5.2"
  }
 },
 "nbformat": 4,
 "nbformat_minor": 1
}
