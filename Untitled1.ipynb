{
 "cells": [
  {
   "cell_type": "code",
   "execution_count": 5,
   "metadata": {
    "collapsed": false
   },
   "outputs": [
    {
     "ename": "SyntaxError",
     "evalue": "invalid syntax (<ipython-input-5-0a1f21a34173>, line 1)",
     "output_type": "error",
     "traceback": [
      "\u001b[0;36m  File \u001b[0;32m\"<ipython-input-5-0a1f21a34173>\"\u001b[0;36m, line \u001b[0;32m1\u001b[0m\n\u001b[0;31m    -\u001b[0m\n\u001b[0m     ^\u001b[0m\n\u001b[0;31mSyntaxError\u001b[0m\u001b[0;31m:\u001b[0m invalid syntax\n"
     ]
    }
   ],
   "source": [
    "-"
   ]
  },
  {
   "cell_type": "code",
   "execution_count": null,
   "metadata": {
    "collapsed": true
   },
   "outputs": [],
   "source": []
  },
  {
   "cell_type": "code",
   "execution_count": 13,
   "metadata": {
    "collapsed": false
   },
   "outputs": [
    {
     "ename": "SyntaxError",
     "evalue": "invalid syntax (<ipython-input-13-249a1fa6cafe>, line 59)",
     "output_type": "error",
     "traceback": [
      "\u001b[0;36m  File \u001b[0;32m\"<ipython-input-13-249a1fa6cafe>\"\u001b[0;36m, line \u001b[0;32m59\u001b[0m\n\u001b[0;31m    hole.pop() 1\u001b[0m\n\u001b[0m       ^\u001b[0m\n\u001b[0;31mSyntaxError\u001b[0m\u001b[0;31m:\u001b[0m invalid syntax\n"
     ]
    }
   ],
   "source": [
    "\"\"\"BlackJack game\"\"\"\n",
    "from random import *\n",
    "\n",
    "\n",
    "class Card:\n",
    "    {'QS': 10, '9S': 9, 'KS': 10, 'AS': (11, 1), '7S': 7, '2S': 2, '6S': 6, '10S': 10, 'JS': 10, '4S': 4, '8S': 8, '3S': 3, '5S': 5}\n",
    "    {'QC': 10, '9C': 9, 'KC': 10, 'AC': (11, 1), '7C': 7, '2C': 2, '6C': 6, '10C': 10, 'JC': 10, '4C': 4, '8C': 8, '3C': 3, '5C': 5}\n",
    "    {'QH': 10, '9H': 9, 'KH': 10, 'AH': (11, 1), '7H': 7, '2H': 2, '6H': 6, '10H': 10, 'JH': 10, '4H': 4, '8H': 8, '3H': 3, '5H': 5}\n",
    "    {'QD': 10, '9D': 9, 'KD': 10, 'AD': (11, 1), '7D': 7, '2D': 2, '6D': 6, '10D': 10, 'JD': 10, '4D': 4, '8D': 8, '3D': 3, '5D': 5}\n",
    "\n",
    "    def __init__(self, suit, value, rank=None):\n",
    "        self.suit = suit\n",
    "        self.value = value\n",
    "        self.rank = rank\n",
    "\n",
    "    def __str__(self):\n",
    "        print(\"The cards is the {} of {}.\".format(value, suit))\n",
    "\n",
    "    def __repr__(self):\n",
    "        print(\"{}of{}\".format(value, suit))\n",
    "\n",
    "class Deck:\n",
    "\n",
    "    def __init__(self, number=52):\n",
    "        self.self = self\n",
    "        self.number = number\n",
    "\n",
    "    def __str__(self):\n",
    "        print(\"This deck has {} cards.\".format(number))\n",
    "\n",
    "    def __repr__(self):\n",
    "        print(\"{}cards\".format(number))\n",
    "\n",
    "    def shuffle(self):\n",
    "        old_hole = len(Deck)\n",
    "        hole_cards = list()\n",
    "        while old_hole > 0:\n",
    "            hole = randint(len(numbers))\n",
    "            old_hole = old_hole - hole\n",
    "            hole_cards.append(hole)\n",
    "        yield hole\n",
    "        \n",
    "    def cut(self):\n",
    "        a , b = hole[:26], hole[26:]\n",
    "        cut = b + a \n",
    "\n",
    "class Deal:\n",
    "\n",
    "    def __init__(self, game, players=2):\n",
    "        self.self = self\n",
    "        self.game = game\n",
    "        self.players = players\n",
    "\n",
    "    def deal(self, game, players):\n",
    "        cut()\n",
    "        player = list()\n",
    "        if game == BlackJack:\n",
    "            player_.append(hole[0]\n",
    "            hole.pop() 1\n",
    "        \n",
    "        \n",
    "        \n",
    "\n",
    "class Hand:\n",
    "\n",
    "    def __init__(self, num_players=2, cards_per=2):\n",
    "        self.self = self\n",
    "        self.num_players = num_players\n",
    "        self.cards_per = cards_per\n",
    "\n",
    "    def __str__(self):\n",
    "        print(\"Each player has {} cards in their hand\".format(cards_per))\n",
    "\n",
    "    "
   ]
  },
  {
   "cell_type": "code",
   "execution_count": 18,
   "metadata": {
    "collapsed": false
   },
   "outputs": [
    {
     "ename": "NameError",
     "evalue": "name 'blackjack' is not defined",
     "output_type": "error",
     "traceback": [
      "\u001b[0;31m---------------------------------------------------------------------------\u001b[0m",
      "\u001b[0;31mNameError\u001b[0m                                 Traceback (most recent call last)",
      "\u001b[0;32m<ipython-input-18-d8c40f883bde>\u001b[0m in \u001b[0;36m<module>\u001b[0;34m()\u001b[0m\n\u001b[1;32m     51\u001b[0m         \u001b[0mself\u001b[0m\u001b[0;34m.\u001b[0m\u001b[0mcards\u001b[0m \u001b[0;34m=\u001b[0m \u001b[0mcards\u001b[0m\u001b[0;34m\u001b[0m\u001b[0m\n\u001b[1;32m     52\u001b[0m \u001b[0;34m\u001b[0m\u001b[0m\n\u001b[0;32m---> 53\u001b[0;31m \u001b[0;32mclass\u001b[0m \u001b[0mDeal\u001b[0m\u001b[0;34m(\u001b[0m\u001b[0mobject\u001b[0m\u001b[0;34m)\u001b[0m\u001b[0;34m:\u001b[0m\u001b[0;34m\u001b[0m\u001b[0m\n\u001b[0m\u001b[1;32m     54\u001b[0m \u001b[0;34m\u001b[0m\u001b[0m\n\u001b[1;32m     55\u001b[0m     \u001b[0;32mdef\u001b[0m \u001b[0m__init__\u001b[0m\u001b[0;34m(\u001b[0m\u001b[0mself\u001b[0m\u001b[0;34m,\u001b[0m \u001b[0mgame\u001b[0m\u001b[0;34m,\u001b[0m \u001b[0mnum_players\u001b[0m\u001b[0;34m=\u001b[0m\u001b[0;36m2\u001b[0m\u001b[0;34m)\u001b[0m\u001b[0;34m:\u001b[0m\u001b[0;34m\u001b[0m\u001b[0m\n",
      "\u001b[0;32m<ipython-input-18-d8c40f883bde>\u001b[0m in \u001b[0;36mDeal\u001b[0;34m()\u001b[0m\n\u001b[1;32m     58\u001b[0m         \u001b[0mself\u001b[0m\u001b[0;34m.\u001b[0m\u001b[0mplayers\u001b[0m \u001b[0;34m=\u001b[0m \u001b[0mplayers\u001b[0m\u001b[0;34m\u001b[0m\u001b[0m\n\u001b[1;32m     59\u001b[0m \u001b[0;34m\u001b[0m\u001b[0m\n\u001b[0;32m---> 60\u001b[0;31m     \u001b[0;32mdef\u001b[0m \u001b[0mdeal\u001b[0m\u001b[0;34m(\u001b[0m\u001b[0mself\u001b[0m\u001b[0;34m,\u001b[0m \u001b[0mgame\u001b[0m\u001b[0;34m=\u001b[0m\u001b[0mblackjack\u001b[0m\u001b[0;34m)\u001b[0m\u001b[0;34m:\u001b[0m\u001b[0;34m\u001b[0m\u001b[0m\n\u001b[0m\u001b[1;32m     61\u001b[0m         \u001b[0;31m# if number of players > 4 two decks?\u001b[0m\u001b[0;34m\u001b[0m\u001b[0;34m\u001b[0m\u001b[0m\n\u001b[1;32m     62\u001b[0m         \u001b[0mDeck\u001b[0m\u001b[0;34m.\u001b[0m\u001b[0mshuffle\u001b[0m\u001b[0;34m(\u001b[0m\u001b[0;34m)\u001b[0m\u001b[0;34m.\u001b[0m\u001b[0mcut\u001b[0m\u001b[0;34m(\u001b[0m\u001b[0;34m)\u001b[0m\u001b[0;34m\u001b[0m\u001b[0m\n",
      "\u001b[0;31mNameError\u001b[0m: name 'blackjack' is not defined"
     ]
    }
   ],
   "source": [
    "\"\"\"BlackJack game\"\"\"\n",
    "from random import *\n",
    "\n",
    "\n",
    "class Card:\n",
    "    {'QS': 10, '9S': 9, 'KS': 10, 'AS': (11, 1), '7S': 7, '2S': 2, '6S': 6, '10S': 10, 'JS': 10, '4S': 4, '8S': 8, '3S': 3, '5S': 5}\n",
    "    {'QC': 10, '9C': 9, 'KC': 10, 'AC': (11, 1), '7C': 7, '2C': 2, '6C': 6, '10C': 10, 'JC': 10, '4C': 4, '8C': 8, '3C': 3, '5C': 5}\n",
    "    {'QH': 10, '9H': 9, 'KH': 10, 'AH': (11, 1), '7H': 7, '2H': 2, '6H': 6, '10H': 10, 'JH': 10, '4H': 4, '8H': 8, '3H': 3, '5H': 5}\n",
    "    {'QD': 10, '9D': 9, 'KD': 10, 'AD': (11, 1), '7D': 7, '2D': 2, '6D': 6, '10D': 10, 'JD': 10, '4D': 4, '8D': 8, '3D': 3, '5D': 5}\n",
    "\n",
    "    def __init__(self, suit, value, rank=None):\n",
    "        self.suit = suit\n",
    "        self.value = value\n",
    "        self.rank = rank\n",
    "\n",
    "    def __str__(self):\n",
    "        print(\"The cards is the {} of {}.\".format(value, suit))\n",
    "\n",
    "    def __repr__(self):\n",
    "        print(\"{}of{}\".format(value, suit))\n",
    "\n",
    "class Deck:\n",
    "\n",
    "    def __init__(self, number=52):\n",
    "        self.self = self\n",
    "        self.number = number\n",
    "\n",
    "    def __str__(self):\n",
    "        print(\"This deck has {} cards.\".format(number))\n",
    "\n",
    "    def __repr__(self):\n",
    "        print(\"{}cards\".format(number))\n",
    "\n",
    "    def shuffle(self):\n",
    "        old_hole = len(Deck)\n",
    "        hole_cards = list()\n",
    "        while old_hole > 0:\n",
    "            hole = randint(len(numbers))\n",
    "            old_hole -= old_hole\n",
    "            hole_cards.append(hole)\n",
    "        yield hole\n",
    "\n",
    "    def cut(self):\n",
    "        a , b = hole[:26], hole[26:]\n",
    "        cut_cards = b + a\n",
    "\n",
    "class Player(object):\n",
    "\n",
    "    def __init__(self, name, cards):\n",
    "        self.name = name\n",
    "        self.cards = cards\n",
    "\n",
    "class Deal(object):\n",
    "\n",
    "    def __init__(self, game, num_players=2):\n",
    "        self.self = self\n",
    "        self.game = game\n",
    "        self.players = players\n",
    "\n",
    "    def deal(self, game=blackjack):\n",
    "        # if number of players > 4 two decks?\n",
    "        Deck.shuffle().cut()\n",
    "        #cut()\n",
    "        players = dict()\n",
    "        # dictionary of Player:cards\n",
    "        #player = list()\n",
    "        if game == blackjack:\n",
    "            for player in num_players:\n",
    "                player.append(cut_cards.pop(0))\n",
    "            #cut_cards.pop(0)\n",
    "\n",
    "\n",
    "class Hand(object):\n",
    "\n",
    "    def __init__(self, num_players=2, cards_per=2):\n",
    "        self.self = self\n",
    "        self.num_players = num_players\n",
    "        self.cards_per = cards_per\n",
    "\n",
    "    def __str__(self):\n",
    "        print(\"Each player has {} cards in their hand\".format(cards_per))\n",
    "        \n",
    "        \n",
    "\n",
    "\n",
    "def black_jack(num_players):\n",
    "    Deck.shuffle().cut()\n",
    "    Deal()\n",
    "    \n",
    "    \n",
    "\n",
    "\n"
   ]
  },
  {
   "cell_type": "code",
   "execution_count": null,
   "metadata": {
    "collapsed": true
   },
   "outputs": [],
   "source": []
  }
 ],
 "metadata": {
  "anaconda-cloud": {},
  "kernelspec": {
   "display_name": "Python [conda root]",
   "language": "python",
   "name": "conda-root-py"
  },
  "language_info": {
   "codemirror_mode": {
    "name": "ipython",
    "version": 3
   },
   "file_extension": ".py",
   "mimetype": "text/x-python",
   "name": "python",
   "nbconvert_exporter": "python",
   "pygments_lexer": "ipython3",
   "version": "3.5.2"
  }
 },
 "nbformat": 4,
 "nbformat_minor": 1
}
